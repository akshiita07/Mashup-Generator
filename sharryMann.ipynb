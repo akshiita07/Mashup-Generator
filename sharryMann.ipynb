{
  "nbformat": 4,
  "nbformat_minor": 0,
  "metadata": {
    "colab": {
      "provenance": []
    },
    "kernelspec": {
      "name": "python3",
      "display_name": "Python 3"
    },
    "language_info": {
      "name": "python"
    }
  },
  "cells": [
    {
      "cell_type": "code",
      "source": [
        "pip install --upgrade pytube"
      ],
      "metadata": {
        "colab": {
          "base_uri": "https://localhost:8080/"
        },
        "id": "r1K-OSEKvKNG",
        "outputId": "fde67cf1-3c13-470d-f3f0-929377453ab5"
      },
      "execution_count": 1,
      "outputs": [
        {
          "output_type": "stream",
          "name": "stdout",
          "text": [
            "Collecting pytube\n",
            "  Downloading pytube-15.0.0-py3-none-any.whl.metadata (5.0 kB)\n",
            "Downloading pytube-15.0.0-py3-none-any.whl (57 kB)\n",
            "\u001b[2K   \u001b[90m━━━━━━━━━━━━━━━━━━━━━━━━━━━━━━━━━━━━━━━━\u001b[0m \u001b[32m57.6/57.6 kB\u001b[0m \u001b[31m512.9 kB/s\u001b[0m eta \u001b[36m0:00:00\u001b[0m\n",
            "\u001b[?25hInstalling collected packages: pytube\n",
            "Successfully installed pytube-15.0.0\n"
          ]
        }
      ]
    },
    {
      "cell_type": "code",
      "source": [
        "pip install yt-dlp"
      ],
      "metadata": {
        "colab": {
          "base_uri": "https://localhost:8080/"
        },
        "id": "rwQ0ZkG3yTY8",
        "outputId": "ad67a1bd-ae39-4cbf-924e-9a6e8e3d8ae1"
      },
      "execution_count": 2,
      "outputs": [
        {
          "output_type": "stream",
          "name": "stdout",
          "text": [
            "Collecting yt-dlp\n",
            "  Downloading yt_dlp-2024.8.6-py3-none-any.whl.metadata (170 kB)\n",
            "\u001b[2K     \u001b[90m━━━━━━━━━━━━━━━━━━━━━━━━━━━━━━━━━━━━━━━━\u001b[0m \u001b[32m170.1/170.1 kB\u001b[0m \u001b[31m3.1 MB/s\u001b[0m eta \u001b[36m0:00:00\u001b[0m\n",
            "\u001b[?25hCollecting brotli (from yt-dlp)\n",
            "  Downloading Brotli-1.1.0-cp310-cp310-manylinux_2_5_x86_64.manylinux1_x86_64.manylinux_2_12_x86_64.manylinux2010_x86_64.whl.metadata (5.5 kB)\n",
            "Requirement already satisfied: certifi in /usr/local/lib/python3.10/dist-packages (from yt-dlp) (2024.7.4)\n",
            "Collecting mutagen (from yt-dlp)\n",
            "  Downloading mutagen-1.47.0-py3-none-any.whl.metadata (1.7 kB)\n",
            "Collecting pycryptodomex (from yt-dlp)\n",
            "  Downloading pycryptodomex-3.20.0-cp35-abi3-manylinux_2_17_x86_64.manylinux2014_x86_64.whl.metadata (3.4 kB)\n",
            "Requirement already satisfied: requests<3,>=2.32.2 in /usr/local/lib/python3.10/dist-packages (from yt-dlp) (2.32.3)\n",
            "Requirement already satisfied: urllib3<3,>=1.26.17 in /usr/local/lib/python3.10/dist-packages (from yt-dlp) (2.0.7)\n",
            "Collecting websockets>=12.0 (from yt-dlp)\n",
            "  Downloading websockets-13.0.1-cp310-cp310-manylinux_2_5_x86_64.manylinux1_x86_64.manylinux_2_17_x86_64.manylinux2014_x86_64.whl.metadata (6.7 kB)\n",
            "Requirement already satisfied: charset-normalizer<4,>=2 in /usr/local/lib/python3.10/dist-packages (from requests<3,>=2.32.2->yt-dlp) (3.3.2)\n",
            "Requirement already satisfied: idna<4,>=2.5 in /usr/local/lib/python3.10/dist-packages (from requests<3,>=2.32.2->yt-dlp) (3.8)\n",
            "Downloading yt_dlp-2024.8.6-py3-none-any.whl (3.1 MB)\n",
            "\u001b[2K   \u001b[90m━━━━━━━━━━━━━━━━━━━━━━━━━━━━━━━━━━━━━━━━\u001b[0m \u001b[32m3.1/3.1 MB\u001b[0m \u001b[31m21.8 MB/s\u001b[0m eta \u001b[36m0:00:00\u001b[0m\n",
            "\u001b[?25hDownloading websockets-13.0.1-cp310-cp310-manylinux_2_5_x86_64.manylinux1_x86_64.manylinux_2_17_x86_64.manylinux2014_x86_64.whl (157 kB)\n",
            "\u001b[2K   \u001b[90m━━━━━━━━━━━━━━━━━━━━━━━━━━━━━━━━━━━━━━━━\u001b[0m \u001b[32m157.3/157.3 kB\u001b[0m \u001b[31m8.3 MB/s\u001b[0m eta \u001b[36m0:00:00\u001b[0m\n",
            "\u001b[?25hDownloading Brotli-1.1.0-cp310-cp310-manylinux_2_5_x86_64.manylinux1_x86_64.manylinux_2_12_x86_64.manylinux2010_x86_64.whl (3.0 MB)\n",
            "\u001b[2K   \u001b[90m━━━━━━━━━━━━━━━━━━━━━━━━━━━━━━━━━━━━━━━━\u001b[0m \u001b[32m3.0/3.0 MB\u001b[0m \u001b[31m22.4 MB/s\u001b[0m eta \u001b[36m0:00:00\u001b[0m\n",
            "\u001b[?25hDownloading mutagen-1.47.0-py3-none-any.whl (194 kB)\n",
            "\u001b[2K   \u001b[90m━━━━━━━━━━━━━━━━━━━━━━━━━━━━━━━━━━━━━━━━\u001b[0m \u001b[32m194.4/194.4 kB\u001b[0m \u001b[31m9.8 MB/s\u001b[0m eta \u001b[36m0:00:00\u001b[0m\n",
            "\u001b[?25hDownloading pycryptodomex-3.20.0-cp35-abi3-manylinux_2_17_x86_64.manylinux2014_x86_64.whl (2.1 MB)\n",
            "\u001b[2K   \u001b[90m━━━━━━━━━━━━━━━━━━━━━━━━━━━━━━━━━━━━━━━━\u001b[0m \u001b[32m2.1/2.1 MB\u001b[0m \u001b[31m31.0 MB/s\u001b[0m eta \u001b[36m0:00:00\u001b[0m\n",
            "\u001b[?25hInstalling collected packages: brotli, websockets, pycryptodomex, mutagen, yt-dlp\n",
            "Successfully installed brotli-1.1.0 mutagen-1.47.0 pycryptodomex-3.20.0 websockets-13.0.1 yt-dlp-2024.8.6\n"
          ]
        }
      ]
    },
    {
      "cell_type": "code",
      "source": [
        "import os\n",
        "from pytube import YouTube\n",
        "from youtubesearchpython import VideosSearch\n",
        "from moviepy.editor import VideoFileClip\n",
        "from pydub import AudioSegment\n",
        "import yt_dlp as youtube_dl"
      ],
      "metadata": {
        "id": "S8SAICEKctCo"
      },
      "execution_count": 13,
      "outputs": []
    },
    {
      "cell_type": "code",
      "source": [
        "def search_and_download_videos(query, max_results=5):\n",
        "    # Search for videos on YouTube based on the query\n",
        "    videos_search = VideosSearch(query, limit=max_results)\n",
        "    results = videos_search.result()['result']\n",
        "\n",
        "    video_urls = [result['link'] for result in results]\n",
        "\n",
        "    video_files = []\n",
        "    for url in video_urls:\n",
        "        try:\n",
        "            ydl_opts = {\n",
        "                'format': 'bestvideo+bestaudio/best',\n",
        "                'outtmpl': '%(title)s.%(ext)s',  # Saves video with title as filename\n",
        "            }\n",
        "            with youtube_dl.YoutubeDL(ydl_opts) as ydl:\n",
        "                info_dict = ydl.extract_info(url, download=True)\n",
        "                video_file = ydl.prepare_filename(info_dict)\n",
        "                video_files.append(video_file)\n",
        "                print(f\"Downloaded: {info_dict['title']}\")\n",
        "        except Exception as e:\n",
        "            print(f\"Failed to download {url}. Error: {e}\")\n",
        "\n",
        "    return video_files\n"
      ],
      "metadata": {
        "id": "xNzf9OE7c4CR"
      },
      "execution_count": 14,
      "outputs": []
    },
    {
      "cell_type": "code",
      "source": [
        "def convert_to_mp3(video_files):\n",
        "    audio_files = []\n",
        "    for video_file in video_files:\n",
        "        try:\n",
        "            audio_file = os.path.splitext(video_file)[0] + \".mp3\"\n",
        "            video_clip = VideoFileClip(video_file)\n",
        "            video_clip.audio.write_audiofile(audio_file)\n",
        "            audio_files.append(audio_file)\n",
        "            print(f\"Converted to MP3: {audio_file}\")\n",
        "        except Exception as e:\n",
        "            print(f\"Failed to convert {video_file}. Error: {e}\")\n",
        "\n",
        "    return audio_files\n"
      ],
      "metadata": {
        "id": "3v4niG_Mc56f"
      },
      "execution_count": 15,
      "outputs": []
    },
    {
      "cell_type": "code",
      "source": [
        "def trim_and_merge_audios(audio_files, duration=30):\n",
        "    combined = AudioSegment.silent(duration=0)  # Start with an empty audio segment\n",
        "\n",
        "    for audio_file in audio_files:\n",
        "        try:\n",
        "            audio = AudioSegment.from_file(audio_file)\n",
        "            trimmed_audio = audio[:duration * 1000]  # Take the first duration seconds\n",
        "            combined += trimmed_audio\n",
        "            print(f\"Trimmed and added: {audio_file}\")\n",
        "        except Exception as e:\n",
        "            print(f\"Failed to process {audio_file}. Error: {e}\")\n",
        "\n",
        "    output_file = \"combined_output.mp3\"\n",
        "    combined.export(output_file, format=\"mp3\")\n",
        "    print(f\"Combined audio saved as: {output_file}\")\n"
      ],
      "metadata": {
        "id": "LsgbXyYfc8D5"
      },
      "execution_count": 16,
      "outputs": []
    },
    {
      "cell_type": "code",
      "source": [
        "def main():\n",
        "    # Define the search prompt and the number of videos to download\n",
        "    prompt = \"Sharry Mann\"\n",
        "    # no of videos to download:\n",
        "    n = 4\n",
        "\n",
        "    print(f\"Searching for '{prompt}' on YouTube...\")\n",
        "\n",
        "    # Search for videos and download them\n",
        "    video_files = search_and_download_videos(prompt, max_results=n)\n",
        "\n",
        "    if not video_files:\n",
        "        print(\"No videos downloaded.\")\n",
        "        return\n",
        "\n",
        "    # Convert downloaded videos to MP3\n",
        "    audio_files = convert_to_mp3(video_files)\n",
        "\n",
        "    # Trim the first 30 seconds and merge audios\n",
        "    trim_and_merge_audios(audio_files, duration=30)\n",
        "\n",
        "if __name__ == \"__main__\":\n",
        "    main()"
      ],
      "metadata": {
        "colab": {
          "base_uri": "https://localhost:8080/"
        },
        "id": "TEZDtug-dADa",
        "outputId": "8337ed3a-24af-483d-f6a6-a330b8cdb5b0"
      },
      "execution_count": 19,
      "outputs": [
        {
          "output_type": "stream",
          "name": "stdout",
          "text": [
            "Searching for 'Sharry Mann' on YouTube...\n",
            "[youtube] Extracting URL: https://www.youtube.com/watch?v=hzTg4zPBtDU\n",
            "[youtube] hzTg4zPBtDU: Downloading webpage\n",
            "[youtube] hzTg4zPBtDU: Downloading ios player API JSON\n",
            "[youtube] hzTg4zPBtDU: Downloading web creator player API JSON\n",
            "[youtube] hzTg4zPBtDU: Downloading m3u8 information\n",
            "[info] hzTg4zPBtDU: Downloading 1 format(s): 616+251\n",
            "[download] ＂3 Peg Sharry Mann＂ (Full Video) ｜ Mista Baaz ｜ Parmish Verma ｜ Ravi Raj ｜ Latest Punjabi Songs 2016.webm has already been downloaded\n",
            "Downloaded: \"3 Peg Sharry Mann\" (Full Video) | Mista Baaz | Parmish Verma | Ravi Raj | Latest Punjabi Songs 2016\n",
            "[youtube] Extracting URL: https://www.youtube.com/watch?v=uqijSOjPI3Q\n",
            "[youtube] uqijSOjPI3Q: Downloading webpage\n",
            "[youtube] uqijSOjPI3Q: Downloading ios player API JSON\n",
            "[youtube] uqijSOjPI3Q: Downloading web creator player API JSON\n",
            "[youtube] uqijSOjPI3Q: Downloading m3u8 information\n",
            "[info] uqijSOjPI3Q: Downloading 1 format(s): 247+251\n",
            "[download] Desi Touch (Official Video) ｜ Sharry Maan ｜ Latest Punjabi Song 2024.webm has already been downloaded\n",
            "Downloaded: Desi Touch (Official Video) | Sharry Maan | Latest Punjabi Song 2024\n",
            "[youtube] Extracting URL: https://www.youtube.com/watch?v=1ksdcHn8qgc\n",
            "[youtube] 1ksdcHn8qgc: Downloading webpage\n",
            "[youtube] 1ksdcHn8qgc: Downloading ios player API JSON\n",
            "[youtube] 1ksdcHn8qgc: Downloading web creator player API JSON\n",
            "[youtube] 1ksdcHn8qgc: Downloading m3u8 information\n",
            "[info] 1ksdcHn8qgc: Downloading 1 format(s): 616+251\n",
            "[download] Best Of Sharry Mann ｜ Audio Jukebox ｜ Punjabi Songs Collection ｜ Speed Records.webm has already been downloaded\n",
            "Downloaded: Best Of Sharry Mann | Audio Jukebox | Punjabi Songs Collection | Speed Records\n",
            "[youtube] Extracting URL: https://www.youtube.com/watch?v=iiQmg8Sldu8\n",
            "[youtube] iiQmg8Sldu8: Downloading webpage\n",
            "[youtube] iiQmg8Sldu8: Downloading ios player API JSON\n",
            "[youtube] iiQmg8Sldu8: Downloading web creator player API JSON\n",
            "[youtube] iiQmg8Sldu8: Downloading m3u8 information\n",
            "[info] iiQmg8Sldu8: Downloading 1 format(s): 244+251\n",
            "[download] Yaar Anmulle (Full Video) ｜ Sharry Mann ｜ Babbu ｜ Latest Punjabi Songs ｜ Speed Records Classic Hitz.webm has already been downloaded\n",
            "Downloaded: Yaar Anmulle (Full Video) | Sharry Mann | Babbu | Latest Punjabi Songs | Speed Records Classic Hitz\n",
            "MoviePy - Writing audio in ＂3 Peg Sharry Mann＂ (Full Video) ｜ Mista Baaz ｜ Parmish Verma ｜ Ravi Raj ｜ Latest Punjabi Songs 2016.mp3\n"
          ]
        },
        {
          "output_type": "stream",
          "name": "stderr",
          "text": []
        },
        {
          "output_type": "stream",
          "name": "stdout",
          "text": [
            "MoviePy - Done.\n",
            "Converted to MP3: ＂3 Peg Sharry Mann＂ (Full Video) ｜ Mista Baaz ｜ Parmish Verma ｜ Ravi Raj ｜ Latest Punjabi Songs 2016.mp3\n",
            "MoviePy - Writing audio in Desi Touch (Official Video) ｜ Sharry Maan ｜ Latest Punjabi Song 2024.mp3\n"
          ]
        },
        {
          "output_type": "stream",
          "name": "stderr",
          "text": []
        },
        {
          "output_type": "stream",
          "name": "stdout",
          "text": [
            "MoviePy - Done.\n",
            "Converted to MP3: Desi Touch (Official Video) ｜ Sharry Maan ｜ Latest Punjabi Song 2024.mp3\n",
            "MoviePy - Writing audio in Best Of Sharry Mann ｜ Audio Jukebox ｜ Punjabi Songs Collection ｜ Speed Records.mp3\n"
          ]
        },
        {
          "output_type": "stream",
          "name": "stderr",
          "text": []
        },
        {
          "output_type": "stream",
          "name": "stdout",
          "text": [
            "MoviePy - Done.\n",
            "Converted to MP3: Best Of Sharry Mann ｜ Audio Jukebox ｜ Punjabi Songs Collection ｜ Speed Records.mp3\n",
            "MoviePy - Writing audio in Yaar Anmulle (Full Video) ｜ Sharry Mann ｜ Babbu ｜ Latest Punjabi Songs ｜ Speed Records Classic Hitz.mp3\n"
          ]
        },
        {
          "output_type": "stream",
          "name": "stderr",
          "text": []
        },
        {
          "output_type": "stream",
          "name": "stdout",
          "text": [
            "MoviePy - Done.\n",
            "Converted to MP3: Yaar Anmulle (Full Video) ｜ Sharry Mann ｜ Babbu ｜ Latest Punjabi Songs ｜ Speed Records Classic Hitz.mp3\n",
            "Trimmed and added: ＂3 Peg Sharry Mann＂ (Full Video) ｜ Mista Baaz ｜ Parmish Verma ｜ Ravi Raj ｜ Latest Punjabi Songs 2016.mp3\n",
            "Trimmed and added: Desi Touch (Official Video) ｜ Sharry Maan ｜ Latest Punjabi Song 2024.mp3\n",
            "Trimmed and added: Best Of Sharry Mann ｜ Audio Jukebox ｜ Punjabi Songs Collection ｜ Speed Records.mp3\n",
            "Trimmed and added: Yaar Anmulle (Full Video) ｜ Sharry Mann ｜ Babbu ｜ Latest Punjabi Songs ｜ Speed Records Classic Hitz.mp3\n",
            "Combined audio saved as: combined_output.mp3\n"
          ]
        }
      ]
    }
  ]
}